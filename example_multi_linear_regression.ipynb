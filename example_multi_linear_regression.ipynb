{
 "cells": [
  {
   "cell_type": "code",
   "execution_count": 12,
   "id": "b80fad59",
   "metadata": {},
   "outputs": [],
   "source": [
    "from sklearn.linear_model import LinearRegression"
   ]
  },
  {
   "cell_type": "code",
   "execution_count": 13,
   "id": "9e352149",
   "metadata": {},
   "outputs": [
    {
     "name": "stdout",
     "output_type": "stream",
     "text": [
      "        TV  Radio  Newspaper  Sales\n",
      "0    230.1   37.8       69.2   22.1\n",
      "1     44.5   39.3       45.1   10.4\n",
      "2     17.2   45.9       69.3    9.3\n",
      "3    151.5   41.3       58.5   18.5\n",
      "4    180.8   10.8       58.4   12.9\n",
      "..     ...    ...        ...    ...\n",
      "195   38.2    3.7       13.8    7.6\n",
      "196   94.2    4.9        8.1    9.7\n",
      "197  177.0    9.3        6.4   12.8\n",
      "198  283.6   42.0       66.2   25.5\n",
      "199  232.1    8.6        8.7   13.4\n",
      "\n",
      "[200 rows x 4 columns]\n"
     ]
    }
   ],
   "source": [
    "from pydataset import data\n",
    "import pandas as pd\n",
    "import numpy as np\n",
    "from sklearn.linear_model import LinearRegression\n",
    "from sklearn.model_selection import train_test_split\n",
    "from matplotlib import pyplot as plt\n",
    "\n",
    "df = pd.read_csv('C:\\\\Users\\\\mou95504\\\\Desktop\\\\code\\\\Advertising.csv')\n",
    "df = df.drop(columns = 'Unnamed: 0')\n",
    "print(df)"
   ]
  },
  {
   "cell_type": "code",
   "execution_count": 14,
   "id": "fc1c44f8",
   "metadata": {
    "scrolled": true
   },
   "outputs": [
    {
     "data": {
      "text/html": [
       "<div>\n",
       "<style scoped>\n",
       "    .dataframe tbody tr th:only-of-type {\n",
       "        vertical-align: middle;\n",
       "    }\n",
       "\n",
       "    .dataframe tbody tr th {\n",
       "        vertical-align: top;\n",
       "    }\n",
       "\n",
       "    .dataframe thead th {\n",
       "        text-align: right;\n",
       "    }\n",
       "</style>\n",
       "<table border=\"1\" class=\"dataframe\">\n",
       "  <thead>\n",
       "    <tr style=\"text-align: right;\">\n",
       "      <th></th>\n",
       "      <th>TV</th>\n",
       "      <th>Radio</th>\n",
       "    </tr>\n",
       "  </thead>\n",
       "  <tbody>\n",
       "    <tr>\n",
       "      <th>0</th>\n",
       "      <td>230.1</td>\n",
       "      <td>37.8</td>\n",
       "    </tr>\n",
       "    <tr>\n",
       "      <th>1</th>\n",
       "      <td>44.5</td>\n",
       "      <td>39.3</td>\n",
       "    </tr>\n",
       "    <tr>\n",
       "      <th>2</th>\n",
       "      <td>17.2</td>\n",
       "      <td>45.9</td>\n",
       "    </tr>\n",
       "    <tr>\n",
       "      <th>3</th>\n",
       "      <td>151.5</td>\n",
       "      <td>41.3</td>\n",
       "    </tr>\n",
       "    <tr>\n",
       "      <th>4</th>\n",
       "      <td>180.8</td>\n",
       "      <td>10.8</td>\n",
       "    </tr>\n",
       "    <tr>\n",
       "      <th>...</th>\n",
       "      <td>...</td>\n",
       "      <td>...</td>\n",
       "    </tr>\n",
       "    <tr>\n",
       "      <th>195</th>\n",
       "      <td>38.2</td>\n",
       "      <td>3.7</td>\n",
       "    </tr>\n",
       "    <tr>\n",
       "      <th>196</th>\n",
       "      <td>94.2</td>\n",
       "      <td>4.9</td>\n",
       "    </tr>\n",
       "    <tr>\n",
       "      <th>197</th>\n",
       "      <td>177.0</td>\n",
       "      <td>9.3</td>\n",
       "    </tr>\n",
       "    <tr>\n",
       "      <th>198</th>\n",
       "      <td>283.6</td>\n",
       "      <td>42.0</td>\n",
       "    </tr>\n",
       "    <tr>\n",
       "      <th>199</th>\n",
       "      <td>232.1</td>\n",
       "      <td>8.6</td>\n",
       "    </tr>\n",
       "  </tbody>\n",
       "</table>\n",
       "<p>200 rows × 2 columns</p>\n",
       "</div>"
      ],
      "text/plain": [
       "        TV  Radio\n",
       "0    230.1   37.8\n",
       "1     44.5   39.3\n",
       "2     17.2   45.9\n",
       "3    151.5   41.3\n",
       "4    180.8   10.8\n",
       "..     ...    ...\n",
       "195   38.2    3.7\n",
       "196   94.2    4.9\n",
       "197  177.0    9.3\n",
       "198  283.6   42.0\n",
       "199  232.1    8.6\n",
       "\n",
       "[200 rows x 2 columns]"
      ]
     },
     "execution_count": 14,
     "metadata": {},
     "output_type": "execute_result"
    }
   ],
   "source": [
    "# TV, Radio, and Newspaper 86%\n",
    "# X = df.iloc[:, :-1]\n",
    "\n",
    "# TV and Radio 86%\n",
    "X = df.iloc[:, [0, 1]]\n",
    "\n",
    "# TV and Newspaper 72%\n",
    "# X = df.iloc[:, [0, 2]]\n",
    "\n",
    "# Radio and Newspaper 21%\n",
    "# X = df.iloc[:, [1, 2]]\n",
    "\n",
    "# TV 67%\n",
    "# X = df.iloc[:, 0]\n",
    "\n",
    "# Radio 22%\n",
    "# X = df.iloc[:, 1]\n",
    "\n",
    "# Newspaper -2%\n",
    "# X = df.iloc[:, 2]\n",
    "\n",
    "# Sales\n",
    "y = df.iloc[:, 3]\n",
    "X"
   ]
  },
  {
   "cell_type": "code",
   "execution_count": 15,
   "id": "de30c3a9",
   "metadata": {},
   "outputs": [
    {
     "data": {
      "image/png": "[encoded data removed]",
      "text/plain": [
       "<Figure size 640x480 with 1 Axes>"
      ]
     },
     "metadata": {},
     "output_type": "display_data"
    }
   ],
   "source": [
    "df.plot(kind = 'scatter', x = 'Radio', y = 'Sales')\n",
    "plt.show()"
   ]
  },
  {
   "cell_type": "code",
   "execution_count": null,
   "id": "f1d8a5c8",
   "metadata": {},
   "outputs": [],
   "source": []
  },
  {
   "cell_type": "code",
   "execution_count": 16,
   "id": "87e7f814",
   "metadata": {},
   "outputs": [],
   "source": [
    "# ## Needed for creating 3D axes\n",
    "# from mpl_toolkits import mplot3d\n",
    "\n",
    "# fig_9 = plt.figure(figsize=(8,5),dpi=100)\n",
    "# axes_9 = fig_9.add_axes([0.1,0.1,0.9,0.9], projection='3d')\n",
    "\n",
    "# # Create a 3D scatterplot\n",
    "# # Te darker points are represented that way to seem closer to you\n",
    "# z_3 = df.iloc[:, 3]\n",
    "# x_3 = df.iloc[:, 0]\n",
    "# y_3 = df.iloc[:, 1]\n",
    "\n",
    "# # Set labels for the axes\n",
    "# # fig_9.set_xlabel('X Label')\n",
    "# # fig_9.set_ylabel('Y Label')\n",
    "# # fig_9.set_zlabel('Z Label')\n",
    "\n",
    "\n",
    "# axes_9.scatter3D(x_3, y_3, z_3)"
   ]
  },
  {
   "cell_type": "code",
   "execution_count": 17,
   "id": "1f903b91",
   "metadata": {},
   "outputs": [],
   "source": [
    "# import numpy as np\n",
    "# import matplotlib.pyplot as plt\n",
    "# from mpl_toolkits.mplot3d import Axes3D\n",
    "\n",
    "# # Generate random data\n",
    "# # np.random.seed(42)\n",
    "\n",
    "# x= df.iloc[:, 0]\n",
    "# y= df.iloc[:, 1]\n",
    "# z= df.iloc[:, 3]\n",
    "\n",
    "# # colors = np.random.rand(200)\n",
    "\n",
    "# # Create 3D scatter plot\n",
    "# fig = plt.figure()\n",
    "# ax = fig.add_subplot(111, projection='3d')\n",
    "# # ax.scatter(x, y, z, marker='o')\n",
    "# ax.scatter(x, y, z)\n",
    "\n",
    "# # Set labels for the axes\n",
    "# ax.set_xlabel('X Label')\n",
    "# ax.set_ylabel('Y Label')\n",
    "# ax.set_zlabel('Z Label')\n",
    "\n",
    "# # Show the plot\n",
    "# plt.show()\n"
   ]
  },
  {
   "cell_type": "code",
   "execution_count": 18,
   "id": "529f1fb6",
   "metadata": {},
   "outputs": [],
   "source": [
    "# import matplotlib.pyplot as plt\n",
    "\n",
    "# ax = plt.axes(projection = \"3d\")\n",
    "# ax.scatter(3,5,7)\n",
    "# plt.show()"
   ]
  },
  {
   "cell_type": "code",
   "execution_count": 19,
   "id": "b22e2894",
   "metadata": {},
   "outputs": [],
   "source": [
    "# Splitting the dataset into the Training set and Test set\n",
    "from sklearn.model_selection import train_test_split\n",
    "X_train, X_test, y_train, y_test = train_test_split(X, y, test_size = 0.2, random_state = 0)"
   ]
  },
  {
   "cell_type": "code",
   "execution_count": 20,
   "id": "ef7f40bf",
   "metadata": {},
   "outputs": [
    {
     "data": {
      "text/plain": [
       "LinearRegression()"
      ]
     },
     "execution_count": 20,
     "metadata": {},
     "output_type": "execute_result"
    }
   ],
   "source": [
    "# Fitting Multiple Linear Regression to the Training set\n",
    "from sklearn.linear_model import LinearRegression\n",
    "regressor = LinearRegression()\n",
    "regressor.fit(X_train, y_train)"
   ]
  },
  {
   "cell_type": "code",
   "execution_count": 21,
   "id": "8888e581",
   "metadata": {},
   "outputs": [],
   "source": [
    "# Predicting the Test set results\n",
    "y_pred = regressor.predict(X_test)\n",
    "# y_pred"
   ]
  },
  {
   "cell_type": "code",
   "execution_count": 22,
   "id": "f245b105",
   "metadata": {},
   "outputs": [
    {
     "data": {
      "text/plain": [
       "Text(0, 0.5, 'original y (y_test)')"
      ]
     },
     "execution_count": 22,
     "metadata": {},
     "output_type": "execute_result"
    },
    {
     "data": {
      "image/png": "[encoded data removed]",
      "text/plain": [
       "<Figure size 640x480 with 1 Axes>"
      ]
     },
     "metadata": {},
     "output_type": "display_data"
    }
   ],
   "source": [
    "# checking the relationship between multiple independent variables and one dependent variable\n",
    "\n",
    "# Import Matplotlib and allow plots to show in the Jupyter Notebook\n",
    "import matplotlib.pyplot as plt\n",
    "%matplotlib inline\n",
    "# Import NumPy and Pandas\n",
    "import numpy as np\n",
    "import pandas as pd\n",
    "\n",
    "new_x = y_pred\n",
    "new_y = y_test\n",
    "weird_regressor = LinearRegression()\n",
    "weird_regressor.fit(new_x.reshape(-1,1), new_y)\n",
    "weird_pred = weird_regressor.predict(new_x.reshape(-1,1))\n",
    "\n",
    "\n",
    "# Display plot with x & y\n",
    "plt.scatter(sorted(y_pred), sorted(y_test))\n",
    "plt.plot(new_x.reshape(-1,1), weird_pred)\n",
    "# Add a title\n",
    "plt.title('How good the multiple regression is')\n",
    "# Add an X & Y Label\n",
    "plt.xlabel('predicted y')\n",
    "plt.ylabel('original y (y_test)')\n",
    "# If not in Jupyter Notebook use\n",
    "# plt.show()\n",
    "\n",
    "# the graph shows a solid linear relationship between IV (TV and Radio) and the DV (Sales)"
   ]
  },
  {
   "cell_type": "code",
   "execution_count": 23,
   "id": "40a9a076",
   "metadata": {},
   "outputs": [
    {
     "data": {
      "text/plain": [
       "Text(0, 0.5, 'Risiduals (y_test - y_pred)')"
      ]
     },
     "execution_count": 23,
     "metadata": {},
     "output_type": "execute_result"
    },
    {
     "data": {
      "image/png": "[encoded data removed]",
      "text/plain": [
       "<Figure size 640x480 with 1 Axes>"
      ]
     },
     "metadata": {},
     "output_type": "display_data"
    }
   ],
   "source": [
    "# checking if there is a non-linear relationship between our IV and DV\n",
    "# Is there a non-linear relationship? (if there is a trend in this graph then the answer is YES)\n",
    "# Display plot with x & y\n",
    "plt.scatter(y_test-y_pred, y_pred)\n",
    "# Add a title\n",
    "plt.title('Risidual plot')\n",
    "# Add an X & Y Label\n",
    "plt.xlabel('predicted y')\n",
    "plt.ylabel('Risiduals (y_test - y_pred)')\n",
    "# If not in Jupyter Notebook use\n",
    "# plt.show()"
   ]
  },
  {
   "cell_type": "code",
   "execution_count": 24,
   "id": "6e5cbe06",
   "metadata": {},
   "outputs": [
    {
     "data": {
      "text/plain": [
       "0.8604541663186569"
      ]
     },
     "execution_count": 24,
     "metadata": {},
     "output_type": "execute_result"
    }
   ],
   "source": [
    "from sklearn.metrics import r2_score\n",
    "score=r2_score(y_test,y_pred)\n",
    "score"
   ]
  },
  {
   "cell_type": "code",
   "execution_count": null,
   "id": "4dcb047e",
   "metadata": {},
   "outputs": [],
   "source": []
  }
 ],
 "metadata": {
  "kernelspec": {
   "display_name": "Python 3 (ipykernel)",
   "language": "python",
   "name": "python3"
  },
  "language_info": {
   "codemirror_mode": {
    "name": "ipython",
    "version": 3
   },
   "file_extension": ".py",
   "mimetype": "text/x-python",
   "name": "python",
   "nbconvert_exporter": "python",
   "pygments_lexer": "ipython3",
   "version": "3.9.13"
  }
 },
 "nbformat": 4,
 "nbformat_minor": 5
}
